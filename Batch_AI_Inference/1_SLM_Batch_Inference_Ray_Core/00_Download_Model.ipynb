{
 "cells": [
  {
   "cell_type": "markdown",
   "metadata": {
    "application/vnd.databricks.v1+cell": {
     "cellMetadata": {},
     "inputWidgets": {},
     "nuid": "2e7b9607-0347-4d29-b3cc-ecc1574e2073",
     "showTitle": false,
     "tableResultSettingsMap": {},
     "title": ""
    }
   },
   "source": [
    "# Fetch model from Hugging face hub, tag and store to mlflow UC registry\n",
    "\n",
    "Model used: [OpenGVL/InternVL3-8B](https://huggingface.co/OpenGVLab/InternVL3-8B)\n"
   ]
  },
  {
   "cell_type": "code",
   "execution_count": 0,
   "metadata": {
    "application/vnd.databricks.v1+cell": {
     "cellMetadata": {
      "byteLimit": 2048000,
      "rowLimit": 10000
     },
     "inputWidgets": {},
     "nuid": "009a459c-bf69-4453-9e84-65a8605e23bf",
     "showTitle": false,
     "tableResultSettingsMap": {},
     "title": ""
    }
   },
   "outputs": [],
   "source": [
    "%pip install --upgrade mlflow-skinny timm transformers\n",
    "\n",
    "\n",
    "%restart_python"
   ]
  },
  {
   "cell_type": "code",
   "execution_count": 0,
   "metadata": {
    "application/vnd.databricks.v1+cell": {
     "cellMetadata": {
      "byteLimit": 2048000,
      "rowLimit": 10000
     },
     "inputWidgets": {},
     "nuid": "21e08593-6603-4af1-8ec4-c031947184c8",
     "showTitle": false,
     "tableResultSettingsMap": {},
     "title": ""
    }
   },
   "outputs": [],
   "source": [
    "import mlflow\n",
    "from mlflow import MlflowClient\n",
    "\n",
    "\n",
    "mlflow.set_registry_uri(\"databricks-uc\")\n",
    "client  = MlflowClient()"
   ]
  },
  {
   "cell_type": "code",
   "execution_count": 0,
   "metadata": {
    "application/vnd.databricks.v1+cell": {
     "cellMetadata": {
      "byteLimit": 2048000,
      "rowLimit": 10000
     },
     "inputWidgets": {},
     "nuid": "919e189e-a63d-4cfb-bddb-2edc95428b5c",
     "showTitle": false,
     "tableResultSettingsMap": {},
     "title": ""
    }
   },
   "outputs": [],
   "source": [
    "CATALOG = \"amine_elhelou\" # Change This/Point to an existing catalog\n",
    "SCHEMA = \"ray_gtm_examples\" # Point to an existing schema\n",
    "VOLUME = \"fashion-images\""
   ]
  },
  {
   "cell_type": "code",
   "execution_count": 0,
   "metadata": {
    "application/vnd.databricks.v1+cell": {
     "cellMetadata": {
      "byteLimit": 2048000,
      "rowLimit": 10000
     },
     "collapsed": true,
     "inputWidgets": {},
     "nuid": "e7080fd0-7b96-4a01-99f2-4ce52a13ac38",
     "showTitle": false,
     "tableResultSettingsMap": {},
     "title": ""
    }
   },
   "outputs": [],
   "source": [
    "import torch\n",
    "import gc\n",
    "\n",
    "\n",
    "# Empty GPU memory\n",
    "torch.cuda.empty_cache()\n",
    "torch.cuda.ipc_collect()\n",
    "\n",
    "# Run garbage collection\n",
    "gc.collect()"
   ]
  },
  {
   "cell_type": "markdown",
   "metadata": {
    "application/vnd.databricks.v1+cell": {
     "cellMetadata": {},
     "inputWidgets": {},
     "nuid": "a37d3996-56c8-4e95-9afa-e0a41c9c1c2b",
     "showTitle": false,
     "tableResultSettingsMap": {},
     "title": ""
    }
   },
   "source": [
    "InternVL3-8B"
   ]
  },
  {
   "cell_type": "code",
   "execution_count": 0,
   "metadata": {
    "application/vnd.databricks.v1+cell": {
     "cellMetadata": {
      "byteLimit": 2048000,
      "rowLimit": 10000
     },
     "inputWidgets": {},
     "nuid": "cdb37d3a-a739-4a6e-9a8f-f5461d54f598",
     "showTitle": false,
     "tableResultSettingsMap": {},
     "title": ""
    }
   },
   "outputs": [],
   "source": [
    "import torch\n",
    "import transformers\n",
    "from transformers import AutoTokenizer, AutoModel\n",
    "\n",
    "\n",
    "hf_model_path = \"OpenGVLab/InternVL3-8B\"\n",
    "hf_model = AutoModel.from_pretrained(\n",
    "  hf_model_path,\n",
    "  torch_dtype=torch.bfloat16,\n",
    "  low_cpu_mem_usage=True,\n",
    "  trust_remote_code=True,\n",
    "  use_flash_attn=True,\n",
    ")\n",
    "# .eval().cuda()\n",
    "\n",
    "tokenizer = AutoTokenizer.from_pretrained(hf_model_path, trust_remote_code=True)"
   ]
  },
  {
   "cell_type": "code",
   "execution_count": 0,
   "metadata": {
    "application/vnd.databricks.v1+cell": {
     "cellMetadata": {
      "byteLimit": 2048000,
      "rowLimit": 10000
     },
     "inputWidgets": {},
     "nuid": "9e1c1c52-51cc-456e-9f32-2f6bbd3fe42a",
     "showTitle": true,
     "tableResultSettingsMap": {},
     "title": "OPTIONAL to avoid downloading form HF Hub every time"
    }
   },
   "outputs": [],
   "source": [
    "model_weights_path = f\"/Volumes/{CATALOG}/{SCHEMA}/{VOLUME}/{hf_model_path.replace('/', '_')}\"\n",
    "hf_model.save_pretrained(f\"/Volumes/{CATALOG}/{SCHEMA}/{VOLUME}/{model_weights_path}\")"
   ]
  },
  {
   "cell_type": "code",
   "execution_count": 0,
   "metadata": {
    "application/vnd.databricks.v1+cell": {
     "cellMetadata": {
      "byteLimit": 2048000,
      "rowLimit": 10000
     },
     "inputWidgets": {},
     "nuid": "85614ae3-6fb4-4924-82e2-9abd32b05a44",
     "showTitle": false,
     "tableResultSettingsMap": {},
     "title": ""
    }
   },
   "outputs": [],
   "source": [
    "import torch\n",
    "from mlflow.models.signature import ModelSignature\n",
    "from mlflow.types.schema import Schema, ColSpec, Array\n",
    "from transformers import pipeline\n",
    "\n",
    "\n",
    "torch_dtype=torch.bfloat16\n",
    "MODEL_NAME = \"InternVL3-8B\"\n",
    "\n",
    "# Define the input schema\n",
    "input_schema = Schema([\n",
    "    ColSpec(\"string\", \"prompt\"),  # User query\n",
    "    ColSpec(Array(\"double\"), \"pixel_values\"),  # Image tensor\n",
    "])\n",
    "\n",
    "# Define the output schema (generated text response)\n",
    "output_schema = Schema([\n",
    "    ColSpec(\"string\", \"response\")\n",
    "])\n",
    "\n",
    "# Create the model signature\n",
    "signature = ModelSignature(inputs=input_schema, outputs=output_schema)"
   ]
  },
  {
   "cell_type": "code",
   "execution_count": 0,
   "metadata": {
    "application/vnd.databricks.v1+cell": {
     "cellMetadata": {
      "byteLimit": 2048000,
      "rowLimit": 10000
     },
     "inputWidgets": {},
     "nuid": "0a2f9dbb-0391-42ee-a7e2-051000d2fb46",
     "showTitle": false,
     "tableResultSettingsMap": {},
     "title": ""
    }
   },
   "outputs": [],
   "source": [
    "internvl_pipe = pipeline(\n",
    "    \"image-text-to-text\",\n",
    "    model=hf_model,\n",
    "    tokenizer=tokenizer,\n",
    "    torch_dtype=torch_dtype,\n",
    ")"
   ]
  },
  {
   "cell_type": "code",
   "execution_count": 0,
   "metadata": {
    "application/vnd.databricks.v1+cell": {
     "cellMetadata": {
      "byteLimit": 2048000,
      "rowLimit": 10000
     },
     "inputWidgets": {},
     "nuid": "8ed298db-3991-4a59-8bd3-c5806a36e8d0",
     "showTitle": false,
     "tableResultSettingsMap": {},
     "title": ""
    }
   },
   "outputs": [],
   "source": [
    "# Log the pipeline\n",
    "with mlflow.start_run(run_name=\"intern-vl-log-pipeline\"):\n",
    "    model_info = mlflow.transformers.log_model(\n",
    "        transformers_model=internvl_pipe,\n",
    "        name=\"ivl_pipeline\",\n",
    "        signature=signature,\n",
    "        registered_model_name=f\"{CATALOG}.{SCHEMA}.{MODEL_NAME}\",\n",
    "    )"
   ]
  },
  {
   "cell_type": "code",
   "execution_count": 0,
   "metadata": {
    "application/vnd.databricks.v1+cell": {
     "cellMetadata": {
      "byteLimit": 2048000,
      "rowLimit": 10000
     },
     "inputWidgets": {},
     "nuid": "89da7498-c38d-4d06-b7d0-af4a019bc0ab",
     "showTitle": false,
     "tableResultSettingsMap": {},
     "title": ""
    }
   },
   "outputs": [],
   "source": [
    "client.set_registered_model_alias(\n",
    "  name=f\"{CATALOG}.{SCHEMA}.{MODEL_NAME}\",\n",
    "  version=model_info.registered_model_version,\n",
    "  alias=\"production\",\n",
    ")"
   ]
  }
 ],
 "metadata": {
  "application/vnd.databricks.v1+notebook": {
   "computePreferences": null,
   "dashboards": [],
   "environmentMetadata": {
    "base_environment": "",
    "environment_version": "1"
   },
   "inputWidgetPreferences": null,
   "language": "python",
   "notebookMetadata": {
    "pythonIndentUnit": 2
   },
   "notebookName": "00_Download_Model",
   "widgets": {}
  },
  "language_info": {
   "name": "python"
  }
 },
 "nbformat": 4,
 "nbformat_minor": 0
}
